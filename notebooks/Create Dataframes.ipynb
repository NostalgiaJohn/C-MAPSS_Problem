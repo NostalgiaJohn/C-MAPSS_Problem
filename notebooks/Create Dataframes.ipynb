{
 "cells": [
  {
   "cell_type": "code",
   "execution_count": 1,
   "metadata": {
    "ExecuteTime": {
     "end_time": "2018-04-11T09:47:47.402415Z",
     "start_time": "2018-04-11T09:47:45.866495Z"
    }
   },
   "outputs": [
    {
     "name": "stderr",
     "output_type": "stream",
     "text": [
      "/home/rneves/anaconda3/envs/python3/lib/python3.6/site-packages/statsmodels/compat/pandas.py:56: FutureWarning: The pandas.core.datetools module is deprecated and will be removed in a future version. Please use the pandas.tseries module instead.\n",
      "  from pandas.core import datetools\n",
      "/home/rneves/anaconda3/envs/python3/lib/python3.6/site-packages/sklearn/cross_validation.py:41: DeprecationWarning: This module was deprecated in version 0.18 in favor of the model_selection module into which all the refactored classes and functions are moved. Also note that the interface of the new CV iterators are different from that of this module. This module will be removed in 0.20.\n",
      "  \"This module will be removed in 0.20.\", DeprecationWarning)\n"
     ]
    },
    {
     "data": {
      "text/html": [
       "<style>.container { width:80% !important; }</style>"
      ],
      "text/plain": [
       "<IPython.core.display.HTML object>"
      ]
     },
     "metadata": {},
     "output_type": "display_data"
    }
   ],
   "source": [
    "import sys\n",
    "sys.path.append('/home/rneves/turbofan/')\n",
    "\n",
    "import helper\n",
    "from helper import *\n",
    "\n",
    "%matplotlib inline\n",
    "\n",
    "\n",
    "from IPython.core.display import display, HTML\n",
    "display(HTML(\"<style>.container { width:80% !important; }</style>\"))"
   ]
  },
  {
   "cell_type": "code",
   "execution_count": 2,
   "metadata": {
    "ExecuteTime": {
     "end_time": "2018-04-11T09:48:10.781982Z",
     "start_time": "2018-04-11T09:47:48.172640Z"
    }
   },
   "outputs": [
    {
     "name": "stdout",
     "output_type": "stream",
     "text": [
      "test_FD003.txt\n",
      "train_FD002.txt\n",
      "test_FD004.txt\n",
      "RUL_FD003.txt\n",
      "test_FD001.txt\n",
      "train_FD001.txt\n",
      "RUL_FD001.txt\n",
      "RUL_FD002.txt\n",
      "train_FD003.txt\n",
      "train_FD004.txt\n",
      "test_FD002.txt\n",
      "RUL_FD004.txt\n"
     ]
    }
   ],
   "source": [
    "datasets = []\n",
    "\n",
    "path = '/datadrive/Turbofan_Engine/' #path to .txt files\n",
    "\n",
    "text_files = [f for f in os.listdir(path) if f.endswith('.txt') and not f.startswith('r')]\n",
    "\n",
    "dataframe = [os.path.splitext(f)[0] for f in text_files]\n",
    "\n",
    "sensor_columns = [\"sensor {}\".format(s) for s in range(1,22)]\n",
    "\n",
    "info_columns = ['dataset_id', 'unit_id','cycle','setting 1', 'setting 2', 'setting 3']\n",
    "\n",
    "label_columns = ['dataset_id', 'unit_id', 'rul']\n",
    "\n",
    "settings = ['setting 1', 'setting 2', 'setting 3']\n",
    "\n",
    "test_data = []\n",
    "train_data = []\n",
    "RUL_data = []\n",
    "\n",
    "for file in text_files:\n",
    "    print(file)\n",
    "    \n",
    "    if re.match('RUL*', file):\n",
    "        subset_df = pd.read_csv(path+file, delimiter=r\"\\s+\", header=None)\n",
    "        unit_id = range(1, subset_df.shape[0] + 1)\n",
    "        subset_df.insert(0, 'unit_id', unit_id)\n",
    "        dataset_id = basename(file).split(\"_\")[1][:5]\n",
    "        subset_df.insert(0, 'dataset_id', dataset_id)    \n",
    "        RUL_data.append(subset_df)\n",
    "    \n",
    "    if re.match('test*', file):\n",
    "        subset_df = pd.read_csv(path+file, delimiter=r\"\\s+\", header=None, usecols=range(26))\n",
    "        dataset_id = basename(file).split(\"_\")[1][:5]\n",
    "        subset_df.insert(0, 'dataset_id', dataset_id)  \n",
    "        test_data.append(subset_df)\n",
    "    \n",
    "    if re.match('train*', file):\n",
    "        subset_df = pd.read_csv(path+file, delimiter=r\"\\s+\", header=None, usecols=range(26))  \n",
    "        dataset_id = basename(file).split(\"_\")[1][:5]\n",
    "        subset_df.insert(0, 'dataset_id', dataset_id)   \n",
    "        train_data.append(subset_df)\n",
    "\n",
    "\n",
    "df_train = pd.concat(train_data, ignore_index=True)\n",
    "df_train.columns = info_columns + sensor_columns               \n",
    "df_train.sort_values(by=['dataset_id', 'unit_id', 'cycle'], inplace=True)\n",
    "\n",
    "df_test = pd.concat(test_data, ignore_index=True)\n",
    "df_test.columns = info_columns + sensor_columns\n",
    "df_test.sort_values(by=['dataset_id', 'unit_id', 'cycle'], inplace=True)\n",
    "\n",
    "df_RUL = pd.concat(RUL_data, ignore_index=True)\n",
    "df_RUL.columns = label_columns\n",
    "df_RUL.sort_values(by=['dataset_id', 'unit_id'], inplace=True)\n",
    "\n",
    "RUL_train = df_train.groupby(['dataset_id', 'unit_id'])['cycle'].max()\n",
    "RUL_test = df_test.groupby(['dataset_id', 'unit_id'])['cycle'].max() + df_RUL.groupby(['dataset_id', 'unit_id'])['rul'].max()\n",
    "\n",
    "df_train['RUL'] = df_train.apply(lambda r: get_RUL(r, RUL_train), axis=1)\n",
    "df_test['RUL'] = df_test.apply(lambda r: get_RUL(r, RUL_test), axis=1)"
   ]
  },
  {
   "cell_type": "code",
   "execution_count": 3,
   "metadata": {
    "ExecuteTime": {
     "end_time": "2018-04-11T10:04:57.874959Z",
     "start_time": "2018-04-11T09:50:13.732637Z"
    },
    "collapsed": true
   },
   "outputs": [],
   "source": [
    "clusterer = hdbscan.HDBSCAN(min_cluster_size=3000, prediction_data=True).fit(df_train[['setting 1', 'setting 2', 'setting 3']])\n",
    "\n",
    "train_labels, strengths = hdbscan.approximate_predict(clusterer, df_train[['setting 1', 'setting 2', 'setting 3']])\n",
    "test_labels, strengths = hdbscan.approximate_predict(clusterer, df_test[['setting 1', 'setting 2', 'setting 3']])\n",
    "\n",
    "df_train['HDBScan'] = train_labels\n",
    "df_test['HDBScan'] = test_labels"
   ]
  },
  {
   "cell_type": "code",
   "execution_count": 5,
   "metadata": {
    "ExecuteTime": {
     "end_time": "2018-04-11T10:07:33.720823Z",
     "start_time": "2018-04-11T10:07:33.700588Z"
    }
   },
   "outputs": [],
   "source": [
    "df_train.set_index(['dataset_id', 'unit_id'], inplace=True)\n",
    "df_test.set_index(['dataset_id', 'unit_id'], inplace=True)"
   ]
  },
  {
   "cell_type": "code",
   "execution_count": 8,
   "metadata": {
    "ExecuteTime": {
     "end_time": "2018-04-11T10:07:55.689178Z",
     "start_time": "2018-04-11T10:07:55.528776Z"
    }
   },
   "outputs": [],
   "source": [
    "pd.to_pickle(df_train, '/datadrive/Turbofan_Engine/df_train_cluster.pkl')\n",
    "pd.to_pickle(df_test, '/datadrive/Turbofan_Engine/df_test_cluster.pkl')"
   ]
  },
  {
   "cell_type": "code",
   "execution_count": 11,
   "metadata": {
    "ExecuteTime": {
     "end_time": "2018-04-11T10:18:57.418595Z",
     "start_time": "2018-04-11T10:18:57.344099Z"
    },
    "collapsed": true
   },
   "outputs": [],
   "source": [
    "idx_train = df_train.index.to_series().unique()[np.arange(len(df_train.index.to_series().unique()))][[0,1,2,3,4,100,101,102,103,104,360,361,362,363,364, 460,461,462,463,464]]\n",
    "idx_test = df_test.index.to_series().unique()[np.arange(len(df_test.index.to_series().unique()))][[0,1,2,3,4,100,101,102,103,104,359,360,361,362,363, 459,460,461,462,463]]\n",
    "\n",
    "train = df_train.loc[idx_train]\n",
    "test = df_test.loc[idx_test]\n",
    "\n",
    "pd.to_pickle(train, '/datadrive/Turbofan_Engine/df_train_sample_cluster.pkl')\n",
    "pd.to_pickle(test, '/datadrive/Turbofan_Engine/df_test_sample_cluster.pkl')"
   ]
  },
  {
   "cell_type": "code",
   "execution_count": null,
   "metadata": {
    "collapsed": true
   },
   "outputs": [],
   "source": []
  }
 ],
 "metadata": {
  "kernelspec": {
   "display_name": "Python 3",
   "language": "python",
   "name": "python3"
  },
  "language_info": {
   "codemirror_mode": {
    "name": "ipython",
    "version": 3
   },
   "file_extension": ".py",
   "mimetype": "text/x-python",
   "name": "python",
   "nbconvert_exporter": "python",
   "pygments_lexer": "ipython3",
   "version": "3.6.5"
  }
 },
 "nbformat": 4,
 "nbformat_minor": 2
}
