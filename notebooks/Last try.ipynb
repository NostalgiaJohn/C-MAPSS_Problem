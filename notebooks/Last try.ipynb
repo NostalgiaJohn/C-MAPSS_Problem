{
 "cells": [
  {
   "cell_type": "code",
   "execution_count": 1,
   "metadata": {},
   "outputs": [
    {
     "name": "stderr",
     "output_type": "stream",
     "text": [
      "/home/rodrigo/anaconda3/lib/python3.6/site-packages/statsmodels/compat/pandas.py:56: FutureWarning: The pandas.core.datetools module is deprecated and will be removed in a future version. Please use the pandas.tseries module instead.\n",
      "  from pandas.core import datetools\n",
      "/home/rodrigo/anaconda3/lib/python3.6/site-packages/sklearn/cross_validation.py:41: DeprecationWarning: This module was deprecated in version 0.18 in favor of the model_selection module into which all the refactored classes and functions are moved. Also note that the interface of the new CV iterators are different from that of this module. This module will be removed in 0.20.\n",
      "  \"This module will be removed in 0.20.\", DeprecationWarning)\n"
     ]
    },
    {
     "data": {
      "text/html": [
       "<style>.container { width:80% !important; }</style>"
      ],
      "text/plain": [
       "<IPython.core.display.HTML object>"
      ]
     },
     "metadata": {},
     "output_type": "display_data"
    }
   ],
   "source": [
    "import sys\n",
    "sys.path.append('/home/rodrigo/PycharmProjects/turbofan/')\n",
    "\n",
    "import helper\n",
    "from helper import *\n",
    "\n",
    "from IPython.core.display import display, HTML\n",
    "display(HTML(\"<style>.container { width:80% !important; }</style>\"))\n",
    "\n",
    "%matplotlib inline\n",
    "\n",
    "pd.options.display.max_rows = 100\n",
    "pd.options.display.max_columns = 50"
   ]
  },
  {
   "cell_type": "code",
   "execution_count": 7,
   "metadata": {},
   "outputs": [],
   "source": [
    "datasets = []\n",
    "\n",
    "RUL_BY_PART = True\n",
    "\n",
    "path = '/home/rodrigo//Desktop/jaguar/Turbofan_Engine/' # path to numpy arrays to plot t-sne\n",
    "\n",
    "df_train = pd.read_pickle(path + 'dataframes/df_train')\n",
    "df_test = pd.read_pickle(path + 'dataframes/df_test')\n",
    "\n",
    "#df_train = pd.read_pickle(path + 'dataframes/df_separated_train')\n",
    "#df_test = pd.read_pickle(path + 'dataframes/df_separated_test')\n",
    "\n",
    "if RUL_BY_PART:\n",
    "    df_train['RUL'] = df_train.apply(lambda r: RUL_by_parts(r, 120), axis=1)\n",
    "    df_test['RUL'] = df_test.apply(lambda r: RUL_by_parts(r, 120), axis=1)\n",
    "\n",
    "df_train.sort_values(by=['dataset_id', 'unit_id', 'cycle'], inplace=True)\n",
    "df_test.sort_values(by=['dataset_id', 'unit_id', 'cycle'], inplace=True)\n",
    "\n",
    "df_train.reset_index(drop = True, inplace=True)\n",
    "df_test.reset_index(drop = True, inplace=True)\n",
    "\n",
    "sensor_columns = [\"sensor {}\".format(s+1) for s in range(21)]\n",
    "columns = ['dataset_id', 'unit_id', 'cycle', 'HDBScan' , 'RUL'] + sensor_columns\n",
    "\n",
    "df_train = df_train[columns]\n",
    "df_test = df_test[columns]\n",
    "\n",
    "df_train, df_test = cat_to_continuous_Binarizer(df_train, df_test)"
   ]
  },
  {
   "cell_type": "code",
   "execution_count": null,
   "metadata": {},
   "outputs": [],
   "source": []
  },
  {
   "cell_type": "code",
   "execution_count": 22,
   "metadata": {
    "scrolled": false
   },
   "outputs": [],
   "source": [
    "length_sequence = 50\n",
    "\n",
    "array_train = []\n",
    "array_label = []\n",
    "\n",
    "for x in df_train.groupby(['dataset_id', 'unit_id']).groups:\n",
    "    \n",
    "    df = (df_train.groupby(['dataset_id', 'unit_id']).get_group(x)).copy()\n",
    "    \n",
    "    for i in range(1, len(df)):\n",
    "        train_x = np.zeros((length_sequence, (len(df.columns)-5)))\n",
    "        train_y = np.zeros((length_sequence, 1))\n",
    "        \n",
    "        if i - length_sequence < 0: x = 0\n",
    "        else: x = i-length_sequence\n",
    "        \n",
    "        data = df.iloc[x:i]\n",
    "        #print(data)\n",
    "        label = data['RUL'].copy().values\n",
    "        data = data.drop(['dataset_id', 'unit_id', 'HDBScan', 'RUL', 'cycle'], axis=1).values\n",
    "        train_x[-len(data):, :] = data\n",
    "        #print(label)\n",
    "        train_y[-len(data):, 0] = label\n",
    "        array_train.append(train_x)\n",
    "        array_label.append(train_y)"
   ]
  },
  {
   "cell_type": "code",
   "execution_count": 27,
   "metadata": {},
   "outputs": [
    {
     "data": {
      "text/plain": [
       "((159650, 50, 32), (159650, 50, 1))"
      ]
     },
     "execution_count": 27,
     "metadata": {},
     "output_type": "execute_result"
    }
   ],
   "source": [
    "np.array(array_train).shape, np.array(array_label).shape"
   ]
  }
 ],
 "metadata": {
  "kernelspec": {
   "display_name": "Python 3",
   "language": "python",
   "name": "python3"
  },
  "language_info": {
   "codemirror_mode": {
    "name": "ipython",
    "version": 3
   },
   "file_extension": ".py",
   "mimetype": "text/x-python",
   "name": "python",
   "nbconvert_exporter": "python",
   "pygments_lexer": "ipython3",
   "version": "3.6.5"
  }
 },
 "nbformat": 4,
 "nbformat_minor": 2
}
